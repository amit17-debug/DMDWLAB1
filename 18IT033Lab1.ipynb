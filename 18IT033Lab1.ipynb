{
  "nbformat": 4,
  "nbformat_minor": 0,
  "metadata": {
    "colab": {
      "name": "18IT033Lab1.ipynb",
      "provenance": [],
      "authorship_tag": "ABX9TyP/8xoD6sK0wU5+E3rKoQLm",
      "include_colab_link": true
    },
    "kernelspec": {
      "name": "python3",
      "display_name": "Python 3"
    }
  },
  "cells": [
    {
      "cell_type": "markdown",
      "metadata": {
        "id": "view-in-github",
        "colab_type": "text"
      },
      "source": [
        "<a href=\"https://colab.research.google.com/github/amit17-debug/DMDWLAB1/blob/main/18IT033Lab1.ipynb\" target=\"_parent\"><img src=\"https://colab.research.google.com/assets/colab-badge.svg\" alt=\"Open In Colab\"/></a>"
      ]
    },
    {
      "cell_type": "code",
      "metadata": {
        "colab": {
          "base_uri": "https://localhost:8080/"
        },
        "id": "D5Rb27InTiwh",
        "outputId": "4d0a3017-24b0-412c-a83c-1d086112238c"
      },
      "source": [
        "#python program for mean, median, and mode.\n",
        "\n",
        "from collections import Counter\n",
        "data=[float(i) for i in input().split()]\n",
        "n=len(data)\n",
        "mean=sum(data)/n\n",
        "print(\"Mean = \",mean)\n",
        "#calculation of median\n",
        "temp=data.copy()\n",
        "temp=sorted(temp)\n",
        "if n%2!=0:\n",
        "  print(\"Median = \",temp[n//2])\n",
        "else:\n",
        "  median=(temp[n//2]+temp[n//2+1])/2  \n",
        "  print(\"Median = \",median)\n",
        "#calculation of mode\n",
        "  cnt=Counter(data)\n",
        "  maxi=max(cnt.items(),key= lambda x:x[1])[1]\n",
        "  print(maxi)\n",
        "  mode=[]\n",
        "  for each in cnt.items():\n",
        "    if each[1]==maxi:\n",
        "      mode.append(each[0])\n",
        "      print(\"each[0] = \",each[0])\n",
        "    if len(mode)==n:\n",
        "      print(\"Not found\")\n",
        "    else:\n",
        "      print(\"Mode = \",mode)"
      ],
      "execution_count": 1,
      "outputs": [
        {
          "output_type": "stream",
          "text": [
            "24 87 65 48 99\n",
            "Mean =  64.6\n",
            "Median =  65.0\n"
          ],
          "name": "stdout"
        }
      ]
    },
    {
      "cell_type": "code",
      "metadata": {
        "colab": {
          "base_uri": "https://localhost:8080/"
        },
        "id": "jtsd2Q37VE3A",
        "outputId": "e010e280-7ecf-44b8-8398-67e84d316316"
      },
      "source": [
        "# python program for standard deviation and variance.\n",
        "data=[float(i) for i in input().split()]\n",
        "n=len(data)\n",
        "mean=sum(data)/n\n",
        "sum1=0\n",
        "for e in data:\n",
        "  sum1+=(e-mean)**2\n",
        "variance=sum1/n\n",
        "print('Variance = ',variance)\n",
        "\n",
        "std=variance**(0.5)\n",
        "print(\"Standard Deviation = \",std)"
      ],
      "execution_count": 2,
      "outputs": [
        {
          "output_type": "stream",
          "text": [
            "245 85 465 55 \n",
            "Variance =  26468.75\n",
            "Standard Deviation =  162.69219403523945\n"
          ],
          "name": "stdout"
        }
      ]
    },
    {
      "cell_type": "code",
      "metadata": {
        "colab": {
          "base_uri": "https://localhost:8080/"
        },
        "id": "JNW22RLHVWP4",
        "outputId": "4c486684-0eae-4003-cd2a-b1581d9a8a69"
      },
      "source": [
        "#python programs.\n",
        "# 1.python program to check even or odd.\n",
        "num = int(input(\"Enter a number: \"))\n",
        "if (num % 2) == 0:\n",
        "   print(\"{0} is Even\".format(num))\n",
        "else:\n",
        "   print(\"{0} is Odd\".format(num))"
      ],
      "execution_count": 3,
      "outputs": [
        {
          "output_type": "stream",
          "text": [
            "Enter a number: 69\n",
            "69 is Odd\n"
          ],
          "name": "stdout"
        }
      ]
    },
    {
      "cell_type": "code",
      "metadata": {
        "colab": {
          "base_uri": "https://localhost:8080/"
        },
        "id": "cFN-E3GCVax8",
        "outputId": "3061726f-01c9-4b75-fd32-77d6985c377e"
      },
      "source": [
        "# 2. Greatest among three numbers.\n",
        "num1 = int(input(\"Enter ist number: \"))\n",
        "num2 = int(input(\"Enter 2nd number: \"))\n",
        "num3 = int(input(\"Enter 3rd number: \"))\n",
        "\n",
        "if (num1 >= num2) and (num1 >= num3):\n",
        "   largest = num1\n",
        "elif (num2 >= num1) and (num2 >= num3):\n",
        "   largest = num2\n",
        "else:\n",
        "   largest = num3\n",
        "\n",
        "print(\"The largest number is\", largest)"
      ],
      "execution_count": 4,
      "outputs": [
        {
          "output_type": "stream",
          "text": [
            "Enter ist number: 5245\n",
            "Enter 2nd number: 5525\n",
            "Enter 3rd number: 5855\n",
            "The largest number is 5855\n"
          ],
          "name": "stdout"
        }
      ]
    },
    {
      "cell_type": "code",
      "metadata": {
        "id": "UazDoqCwVe42"
      },
      "source": [
        ""
      ],
      "execution_count": null,
      "outputs": []
    }
  ]
}